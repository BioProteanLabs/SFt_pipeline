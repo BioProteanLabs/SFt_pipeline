{
 "cells": [
  {
   "cell_type": "markdown",
   "metadata": {},
   "source": [
    "# Preprocessing the ABA spatial transcriptomics data"
   ]
  },
  {
   "cell_type": "code",
   "execution_count": null,
   "metadata": {},
   "outputs": [],
   "source": [
    "# Importing libraries\n",
    "import numpy as np\n",
    "import pandas as pd\n",
    "import matplotlib.pyplot as plt\n",
    "from morphontogeny.functions.IO import nifti_to_array\n",
    "from sklearn.preprocessing import StandardScaler"
   ]
  },
  {
   "cell_type": "code",
   "execution_count": null,
   "metadata": {},
   "outputs": [],
   "source": [
    "# List of the genes used in this analysis are taken from:\n",
    "# Bohland et al., 2010: https://doi.org/10.1016/j.ymeth.2009.09.001\n",
    "\n",
    "# Loading the list of top genes,\n",
    "# which is included in this repo at files/list_top_genes.csv\n",
    "list = pd.read_csv(\"files/list_top_genes.csv\")\n",
    "list_top = list[list['Used in analysis?']==1]"
   ]
  },
  {
   "cell_type": "code",
   "execution_count": null,
   "metadata": {},
   "outputs": [],
   "source": [
    "# All gene expression files are downloaded using the tools provided by\n",
    "# Allen Institute in R language (not provided here) and converted to CSV format\n",
    "\n",
    "# Make the E(v,g) matrix of ISH data for top genes\n",
    "# Voxels stored in rows, genes as columns\n",
    "# (but some of the genes in thre list can't be found on ABA dataset)\n",
    "\n",
    "# Making a numpy MEMMAP since the file is large for the RAM\n",
    "topgenes_mmp = np.memmap('data/genes_mmp.mymemmap',\\\n",
    "            dtype='float32', mode='w+', shape=(list_top.shape[0],gene.shape[0]))\n",
    "\n",
    "for i in range (list_top.shape[0]):\n",
    "    try:\n",
    "        topgenes_mmp[:,i] = np.genfromtxt('data/'+list_top['ID'][i]+'.csv',\\\n",
    "        delimiter=',', skip_header=1, usecols=range(1,2379)).flatten()\n",
    "    except:\n",
    "        pass"
   ]
  },
  {
   "cell_type": "code",
   "execution_count": null,
   "metadata": {},
   "outputs": [],
   "source": [
    "# To deal with -1s in the data\n",
    "# basic method is to convert them to 0s\n",
    "# or, impute them (recommended)\n",
    "\n",
    "# Chaning -1s to 0s\n",
    "X_pos = np.where(topgenes_mmp < 0, 0, topgenes_mmp)"
   ]
  },
  {
   "cell_type": "code",
   "execution_count": null,
   "metadata": {},
   "outputs": [],
   "source": [
    "# Standardizing features by removing the mean and scaling to unit variance\n",
    "X_std = StandardScaler().fit_transform(X_pos)"
   ]
  },
  {
   "cell_type": "code",
   "execution_count": null,
   "metadata": {},
   "outputs": [],
   "source": [
    "# Masking the data for half brain\n",
    "# Using the NIFTI files for the Allen Mouse Brain Average in 200 um res.\n",
    "# Provided in the 'files' folder\n",
    "\n",
    "# Loading the neuroanatomy\n",
    "anat_arr = nifti_to_array('files/allen_annot200.nii')\n",
    "\n",
    "# Halving by Neuroanatomy\n",
    "anat_half = np.zeros_like(anat_arr)\n",
    "anat_half[:,:29,:] = anat_3D[:,:29,:]\n",
    "\n",
    "# Vectorizing and getting indices of non-zero values\n",
    "anat_half_vec = anat_half.flatten()\n",
    "half_indices = np.nonzero(anat_half_vec)\n",
    "anat_half_masked = anat_half_vec[half_indices]\n",
    "\n",
    "# Saving indices to file\n",
    "# Indices file is provided in this repo\n",
    "np.save('files/half_indices.npy', half_indices)\n",
    "\n",
    "# Making a new array to save the half-brain masked gene expression data\n",
    "half_arr = np.zeros((half_indices.shape[0],X_std.shape[1]))\n",
    "\n",
    "for i in range(X_std.shape[1]):\n",
    "    half_arr[:,i] = X_std[half_indices,i]\n",
    "\n",
    "# Standardizing the matrix\n",
    "half_mask_pos_std = StandardScaler().fit_transform(half_arr)"
   ]
  },
  {
   "cell_type": "code",
   "execution_count": null,
   "metadata": {},
   "outputs": [],
   "source": [
    "# Masking the data for whole brain\n",
    "# Using the NIFTI files for the Allen Mouse Brain Average in 200 um res.\n",
    "# Provided in the 'files' folder\n",
    "\n",
    "# Loading the neuroanatomy\n",
    "anat_vec = nifti_to_vector('files/allen_annot200.nii')\n",
    "\n",
    "# Getting indices of non-zero values\n",
    "indices = np.nonzero(anat_vec)\n",
    "\n",
    "# Masking the anatomy\n",
    "anat_masked = anat_vec[indices]\n",
    "\n",
    "# Saving indices to file\n",
    "# Indices file is provided in this repo\n",
    "np.save('files/mask_indices.npy', indices)\n",
    "\n",
    "# Making a new array to save the half-brain masked gene expression data\n",
    "mask_arr = np.zeros((indices.shape[0],X_std.shape[1]))\n",
    "\n",
    "for i in range(X_std.shape[1]):\n",
    "    mask_arr[:,i] = X_std[indices,i]\n",
    "\n",
    "# Standardizing the matrix\n",
    "mask_pos_std = StandardScaler().fit_transform(mask_arr)"
   ]
  }
 ],
 "metadata": {
  "kernelspec": {
   "display_name": "Py3-basic",
   "language": "python",
   "name": "python3"
  },
  "language_info": {
   "codemirror_mode": {
    "name": "ipython",
    "version": 3
   },
   "file_extension": ".py",
   "mimetype": "text/x-python",
   "name": "python",
   "nbconvert_exporter": "python",
   "pygments_lexer": "ipython3",
   "version": "3.7.2"
  }
 },
 "nbformat": 4,
 "nbformat_minor": 2
}
