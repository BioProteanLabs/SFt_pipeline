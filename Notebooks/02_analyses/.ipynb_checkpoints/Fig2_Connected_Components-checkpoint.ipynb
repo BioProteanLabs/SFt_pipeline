{
 "cells": [
  {
   "cell_type": "markdown",
   "metadata": {},
   "source": [
    "# Connected components in ABA features"
   ]
  },
  {
   "cell_type": "code",
   "execution_count": null,
   "metadata": {},
   "outputs": [],
   "source": [
    "import numpy as np\n",
    "import pandas as pd\n",
    "import matplotlib.pyplot as plt\n",
    "from skimage.measure import marching_cubes\n",
    "from morphontogeny.functions.IO import reconstruct_ABA\n",
    "from morphontogeny.functions.metrics import number_of_graph_components"
   ]
  },
  {
   "cell_type": "code",
   "execution_count": null,
   "metadata": {},
   "outputs": [],
   "source": [
    "# Loading features\n",
    "SFT_features = np.load('files/SFT_100features.npy')\n",
    "\n",
    "# List of connected components\n",
    "SFT_connected_components = []\n",
    "\n",
    "# Indices file\n",
    "indices_file = 'files/mask_indices.npy'\n",
    "\n",
    "for ii in range(SFT_features.shape[1]):\n",
    "\n",
    "    # Reconstructing features\n",
    "    SFT_feature = reconstruct_ABA(SFT_features[:,ii], indices_file=indices_file, outside_value=np.nan, mirror=False)\n",
    "    \n",
    "    # Getting vertices and faces\n",
    "    SFT_verts, SFT_faces, _, _ = marching_cubes(SFT_feature, level = np.mean([np.nanmin(SFT_feature), np.nanmax(SFT_feature)]))\n",
    "    \n",
    "    # Adding to the list\n",
    "    SFT_connected_components.append( number_of_graph_components(SFT_verts, SFT_faces) )"
   ]
  }
 ],
 "metadata": {
  "kernelspec": {
   "display_name": "Py3-basic",
   "language": "python",
   "name": "python3"
  },
  "language_info": {
   "codemirror_mode": {
    "name": "ipython",
    "version": 3
   },
   "file_extension": ".py",
   "mimetype": "text/x-python",
   "name": "python",
   "nbconvert_exporter": "python",
   "pygments_lexer": "ipython3",
   "version": "3.7.2"
  }
 },
 "nbformat": 4,
 "nbformat_minor": 2
}
