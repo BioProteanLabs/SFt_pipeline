{
 "cells": [
  {
   "cell_type": "markdown",
   "metadata": {},
   "source": [
    "# Reconstruction of ABA with top weighted genes"
   ]
  },
  {
   "cell_type": "code",
   "execution_count": null,
   "metadata": {},
   "outputs": [],
   "source": [
    "import numpy as np\n",
    "import pandas as pd"
   ]
  },
  {
   "cell_type": "code",
   "execution_count": null,
   "metadata": {},
   "outputs": [],
   "source": [
    "'''Making a DataFrame of gene weights and genes information'''\n",
    "\n",
    "# Loading the weights array\n",
    "weights = np.load('files/SFT_100weights.npy')\n",
    "n_features = weights.shape[0]\n",
    "\n",
    "# Loading the genes dataframe\n",
    "genes_df = pd.read_csv('files/genes_list.csv') \n",
    "\n",
    "# Inputting the weights to this dataframe:\n",
    "for i in range(n_features):\n",
    "    genes_df['feature_' + str(i)] = abs(weights[i, :])"
   ]
  },
  {
   "cell_type": "code",
   "execution_count": null,
   "metadata": {},
   "outputs": [],
   "source": [
    "'''Selecting top n genes of each feature'''\n",
    "\n",
    "# Selecting top n genes for each feature\n",
    "n_top = 12\n",
    "all_top_list = []\n",
    "\n",
    "for i in range(n_features):\n",
    "    # Sorting by the weights in each column\n",
    "    sorted_df = genes_df.sort_values(by=['feature_'+str(i)], ascending=False, na_position='last')\n",
    "    sorted_df.reset_index(drop=True, inplace=True)\n",
    "    \n",
    "    # Getting the top n list and adding to the main list\n",
    "    gene_list = sorted_df['Gene'].loc[:n_top-1].tolist()\n",
    "    all_top_list.extend(gene_list)\n",
    "\n",
    "# Limiting the dataframe to desired genes\n",
    "select_df = genes_df[genes_df['Gene'].isin(all_top_list)]\n",
    "indices = select_df.index.tolist()\n",
    "\n",
    "# Loading the voxel * gene matrix and filtering it for top genes\n",
    "X = np.load('gene_expression_array.npy')\n",
    "X_select = X[:,indices]"
   ]
  },
  {
   "cell_type": "markdown",
   "metadata": {},
   "source": [
    "**Here, we run Sparse Filtering or other representation learning methods on X_select, instead of the main data.**"
   ]
  }
 ],
 "metadata": {
  "kernelspec": {
   "display_name": "Py3-basic",
   "language": "python",
   "name": "python3"
  },
  "language_info": {
   "codemirror_mode": {
    "name": "ipython",
    "version": 3
   },
   "file_extension": ".py",
   "mimetype": "text/x-python",
   "name": "python",
   "nbconvert_exporter": "python",
   "pygments_lexer": "ipython3",
   "version": "3.7.2"
  }
 },
 "nbformat": 4,
 "nbformat_minor": 2
}
