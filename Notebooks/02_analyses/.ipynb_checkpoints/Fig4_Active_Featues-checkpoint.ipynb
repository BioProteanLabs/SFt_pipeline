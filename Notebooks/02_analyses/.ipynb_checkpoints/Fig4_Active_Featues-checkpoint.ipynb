{
 "cells": [
  {
   "cell_type": "markdown",
   "metadata": {},
   "source": [
    "# Active features in each voxel\n",
    "* First, we cluster each feature using K-means clustering to 2 clusters, to find out where the feature is active in.\n",
    "* Then, we get the ratio of active features in each voxel."
   ]
  },
  {
   "cell_type": "code",
   "execution_count": null,
   "metadata": {},
   "outputs": [],
   "source": [
    "import numpy as np"
   ]
  },
  {
   "cell_type": "code",
   "execution_count": null,
   "metadata": {},
   "outputs": [],
   "source": [
    "'''Clustering each feature to 2 clusters to find the active regions'''\n",
    "\n",
    "def cluster_festures_separately(features_arr):\n",
    "    '''\n",
    "    This function clusters each feature of the input features array (samples * features) separately\n",
    "    using K-means clustering and returns an array of labeled features (samples * features).\n",
    "    \n",
    "    Args:\n",
    "        features_arr: numpy array\n",
    "            The numpy array of features (samples * features).\n",
    "    \n",
    "    Returns:\n",
    "        labels_arr: numpy array\n",
    "            The numpy array of labeled features (samples * features).\n",
    "    '''\n",
    "\n",
    "    # Making an array to store all labels\n",
    "    labels_arr = np.zeros_like(features_arr)\n",
    "\n",
    "    for feature_n in range(features_arr.shape[1]):\n",
    "        \n",
    "        # Selecting the feature\n",
    "        feature = features_arr[:, feature_n].reshape(-1,1)\n",
    "\n",
    "        # Running clustering\n",
    "        n_clusters = 2\n",
    "        kmeans = KMeans(n_clusters = n_clusters, random_state = 0)\n",
    "        kmeans.fit_predict(feature)\n",
    "        labels_arr[:, feature_n] = kmeans.labels_\n",
    "        \n",
    "    return labels_arr"
   ]
  },
  {
   "cell_type": "code",
   "execution_count": null,
   "metadata": {},
   "outputs": [],
   "source": [
    "# Loading the features\n",
    "features_arr = np.load('files/SFT_100features.npy')\n",
    "n_features = features_arr.shape[1]\n",
    "\n",
    "# Clustering the features separately\n",
    "labels_arr = cluster_festures_separately(features_arr)\n",
    "\n",
    "# List of counts\n",
    "counts_list = []\n",
    "\n",
    "for i in range(labels_arr.shape[0]):\n",
    "    ratio = np.sum(labels_arr[i,:]) / n_features\n",
    "    counts_list.append(ratio)"
   ]
  }
 ],
 "metadata": {
  "kernelspec": {
   "display_name": "Py3-basic",
   "language": "python",
   "name": "python3"
  },
  "language_info": {
   "codemirror_mode": {
    "name": "ipython",
    "version": 3
   },
   "file_extension": ".py",
   "mimetype": "text/x-python",
   "name": "python",
   "nbconvert_exporter": "python",
   "pygments_lexer": "ipython3",
   "version": "3.7.2"
  }
 },
 "nbformat": 4,
 "nbformat_minor": 2
}
