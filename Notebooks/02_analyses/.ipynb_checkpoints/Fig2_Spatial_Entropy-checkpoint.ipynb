{
 "cells": [
  {
   "cell_type": "markdown",
   "metadata": {},
   "source": [
    "# Spatial Entropy of ABA features"
   ]
  },
  {
   "cell_type": "code",
   "execution_count": null,
   "metadata": {},
   "outputs": [],
   "source": [
    "import numpy as np\n",
    "import pandas as pd\n",
    "from skimage.measure.entropy import shannon_entropy\n",
    "from morphontogeny.functions.IO import reconstruct_ABA\n",
    "from morphontogeny.functions.metrics import greycomatrix_3d\n",
    "import matplotlib.pyplot as plt"
   ]
  },
  {
   "cell_type": "code",
   "execution_count": null,
   "metadata": {},
   "outputs": [],
   "source": [
    "# Loading features\n",
    "SFT_features = np.load('files/SFT_100features.npy')\n",
    "\n",
    "# List of Entropies\n",
    "SFT_spatial_entropies = []\n",
    "\n",
    "# Indices file\n",
    "indices_file = 'files/mask_indices.npy'\n",
    "\n",
    "for ii in range(SFT_features.shape[1]):\n",
    "\n",
    "    # Reconstructing features\n",
    "    SFT_feature = reconstruct_ABA(SFT_features[:,ii], indices_file=indices_file, outside_value=np.nan, mirror=False)\n",
    "    \n",
    "    # Measuring spatial entropy\n",
    "    SFT_feature_glcms = greycomatrix_3d(SFT_feature, levels=256, directions=[(1,1,1),(2,1,1),(1,2,1),(1,1,2),(2,2,1),(2,1,2),(1,2,2)])\n",
    "\n",
    "    # Adding entropies to the list\n",
    "    SFT_spatial_entropies.append( sum( [shannon_entropy(x) for x in SFT_feature_glcms] ) )"
   ]
  }
 ],
 "metadata": {
  "kernelspec": {
   "display_name": "Py3-basic",
   "language": "python",
   "name": "python3"
  },
  "language_info": {
   "codemirror_mode": {
    "name": "ipython",
    "version": 3
   },
   "file_extension": ".py",
   "mimetype": "text/x-python",
   "name": "python",
   "nbconvert_exporter": "python",
   "pygments_lexer": "ipython3",
   "version": "3.7.2"
  }
 },
 "nbformat": 4,
 "nbformat_minor": 2
}
