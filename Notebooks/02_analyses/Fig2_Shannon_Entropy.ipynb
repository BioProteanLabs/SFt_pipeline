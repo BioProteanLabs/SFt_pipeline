{
 "cells": [
  {
   "cell_type": "markdown",
   "metadata": {},
   "source": [
    "# Shannon's Entropy of ABA features"
   ]
  },
  {
   "cell_type": "code",
   "execution_count": null,
   "metadata": {},
   "outputs": [],
   "source": [
    "import numpy as np\n",
    "import pandas as pd\n",
    "import matplotlib.pyplot as plt\n",
    "from skimage.measure import shannon_entropy\n",
    "from morphontogeny.functions.IO import reconstruct_ABA"
   ]
  },
  {
   "cell_type": "code",
   "execution_count": null,
   "metadata": {},
   "outputs": [],
   "source": [
    "def level_arr(array, levels=256):\n",
    "    \n",
    "    arr = array - np.nanmin(array)                              # set the minimum to zero\n",
    "    arr = (arr / np.nanmax(arr)) * (levels - 1)                 # and the max to the number of levels - 1\n",
    "    arr = np.round(arr)                                         # round to ints.\n",
    "    \n",
    "    return arr"
   ]
  },
  {
   "cell_type": "code",
   "execution_count": null,
   "metadata": {},
   "outputs": [],
   "source": [
    "# Loading features\n",
    "SFT_features = np.load('files/SFT_100features.npy')\n",
    "\n",
    "# List of Entropies\n",
    "SFT_shannon_entropies = []\n",
    "\n",
    "# Indices file\n",
    "indices_file = 'files/mask_indices.npy'\n",
    "\n",
    "for ii in range(SFT_features.shape[1]):\n",
    "    \n",
    "    # Reconstructing features\n",
    "    SFT_feature = reconstruct_ABA(SFT_features[:,ii], indices_file=indices_file, outside_value=np.nan, mirror=False)\n",
    "    \n",
    "    # Levelling the arrays\n",
    "    SFT_feature = level_arr(SFT_feature)\n",
    "    \n",
    "    # Adding entropies\n",
    "    SFT_shannon_entropies.append(shannon_entropy(SFT_feature))"
   ]
  }
 ],
 "metadata": {
  "kernelspec": {
   "display_name": "Py3-basic",
   "language": "python",
   "name": "python3"
  },
  "language_info": {
   "codemirror_mode": {
    "name": "ipython",
    "version": 3
   },
   "file_extension": ".py",
   "mimetype": "text/x-python",
   "name": "python",
   "nbconvert_exporter": "python",
   "pygments_lexer": "ipython3",
   "version": "3.7.2"
  }
 },
 "nbformat": 4,
 "nbformat_minor": 2
}
