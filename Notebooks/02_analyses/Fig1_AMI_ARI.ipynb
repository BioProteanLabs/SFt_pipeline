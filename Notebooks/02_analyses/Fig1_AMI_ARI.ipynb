{
 "cells": [
  {
   "cell_type": "markdown",
   "metadata": {},
   "source": [
    "# Checking Similarity of Features and Allen Reference Atlas"
   ]
  },
  {
   "cell_type": "code",
   "execution_count": null,
   "metadata": {},
   "outputs": [],
   "source": [
    "# Importing Libraries\n",
    "import numpy as np\n",
    "from sklearn.metrics import adjusted_rand_score as ARI\n",
    "from sklearn.metrics import adjusted_mutual_info_score as AMI"
   ]
  },
  {
   "cell_type": "code",
   "execution_count": null,
   "metadata": {},
   "outputs": [],
   "source": [
    "# Checking the similarity score of the clusters and the Neuroanatomy\n",
    "# The Neuroanatomy is the Allen Mouse Brain average\n",
    "# First, you need to load the clusterings of the features learned from the data\n",
    "# The feature learning is done in the 01_dimension_reduction folder notebooks\n",
    "\n",
    "# Loading the clusters\n",
    "labels = np.load('files/SFT_100features_200clusters.npy')"
   ]
  },
  {
   "cell_type": "code",
   "execution_count": null,
   "metadata": {},
   "outputs": [],
   "source": [
    "# Loading the Allen Reference Atlas\n",
    "reference = np.load('files/allen_annot200_mask.npy')"
   ]
  },
  {
   "cell_type": "code",
   "execution_count": null,
   "metadata": {},
   "outputs": [],
   "source": [
    "# Getting the AMI and ARI\n",
    "print('Adjusted Mutual Information: ', AMI(labels, reference))\n",
    "print('Adjusted Rand Index: ', ARI(labels, reference))"
   ]
  }
 ],
 "metadata": {
  "kernelspec": {
   "display_name": "Py3-basic",
   "language": "python",
   "name": "python3"
  },
  "language_info": {
   "codemirror_mode": {
    "name": "ipython",
    "version": 3
   },
   "file_extension": ".py",
   "mimetype": "text/x-python",
   "name": "python",
   "nbconvert_exporter": "python",
   "pygments_lexer": "ipython3",
   "version": "3.7.2"
  }
 },
 "nbformat": 4,
 "nbformat_minor": 2
}
