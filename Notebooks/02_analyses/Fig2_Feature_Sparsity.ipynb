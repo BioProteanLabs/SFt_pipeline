{
 "cells": [
  {
   "cell_type": "markdown",
   "metadata": {},
   "source": [
    "# Sparsity of Features"
   ]
  },
  {
   "cell_type": "code",
   "execution_count": null,
   "metadata": {},
   "outputs": [],
   "source": [
    "import numpy as np"
   ]
  },
  {
   "cell_type": "code",
   "execution_count": null,
   "metadata": {},
   "outputs": [],
   "source": [
    "# This notebook is to measure the sparsity of features from ABA\n",
    "# It uses the array_sparsity_function defined here\n",
    "# This function counts the voxels over 'mean + stdev_ratio * stdev'"
   ]
  },
  {
   "cell_type": "code",
   "execution_count": null,
   "metadata": {},
   "outputs": [],
   "source": [
    "def array_sparsity_function(input_arr, stdev_ratio = 1, sparsity_method = 'normal'):\n",
    "    '''\n",
    "    Measures the sparsity of the array by thresholding it to 'mean + stdev_ratio * stdev',\n",
    "    and counting the number of voxels.\n",
    "    \n",
    "    Args:\n",
    "        input_arr: np array\n",
    "            The input array.\n",
    "        \n",
    "        sparsity_method: {'normal', 'inverse'}, default = 'normal'\n",
    "            'normal': number of voxels above threshold / total number of voxels\n",
    "            'inverse': total number of voxels / number of voxels above threshold\n",
    "        \n",
    "        stdev_ratio: float, default = 1\n",
    "            The ratio in the threshold formula; threshold = mean + stdev_ratio * stdev\n",
    "            \n",
    "    Returns:\n",
    "        sparsity_ratio: float\n",
    "            ratio of sparsity.\n",
    "    '''\n",
    "    \n",
    "    # Thresholding the feature\n",
    "    mean = np.mean(input_arr)\n",
    "    stdev = np.std(input_arr)\n",
    "    threshold = mean + stdev_ratio * stdev\n",
    "    thresh_feature = input_arr > threshold\n",
    "    \n",
    "    # Count of voxels abpve threshold\n",
    "    count_thresh = np.sum(thresh_feature)\n",
    "    if count_thresh == 0:\n",
    "        print('O voxels above threshold!')\n",
    "    \n",
    "    # Calculating sparsity and adding to the dataframe\n",
    "    if sparsity_method == 'normal':\n",
    "        sparsity_ratio = count_thresh / input_arr.shape[0]\n",
    "    elif sparsity_method == 'inverse':\n",
    "        sparsity_ratio = input_arr.shape[0] / count_thresh\n",
    "    \n",
    "    return sparsity_ratio"
   ]
  },
  {
   "cell_type": "code",
   "execution_count": null,
   "metadata": {},
   "outputs": [],
   "source": [
    "# Loading the features derived from the represetation learning methods\n",
    "\n",
    "# Sparsity metric\n",
    "sparsity_method = 'inverse'\n",
    "\n",
    "# stdev ratio\n",
    "stdev_ratio = 0\n",
    "\n",
    "# Loading the features array\n",
    "features_arr = np.load('files/SFT_100features.npy')\n",
    "\n",
    "# Making a list to store ratios\n",
    "sparsity_list = []\n",
    "\n",
    "for i in range(features_arr.shape[1]):\n",
    "    # Selecting the feature\n",
    "    feature = features_arr[:,i]\n",
    "    \n",
    "    # Calculating the sparsity\n",
    "    sp_ratio = array_sparsity_function(feature, stdev_ratio = stdev_ratio, sparsity_method = sparsity_method)\n",
    "    sparsity_list.append(sp_ratio)"
   ]
  }
 ],
 "metadata": {
  "kernelspec": {
   "display_name": "Py3-basic",
   "language": "python",
   "name": "python3"
  },
  "language_info": {
   "codemirror_mode": {
    "name": "ipython",
    "version": 3
   },
   "file_extension": ".py",
   "mimetype": "text/x-python",
   "name": "python",
   "nbconvert_exporter": "python",
   "pygments_lexer": "ipython3",
   "version": "3.7.2"
  }
 },
 "nbformat": 4,
 "nbformat_minor": 2
}
